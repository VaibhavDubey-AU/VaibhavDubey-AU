{
 "cells": [
  {
   "cell_type": "code",
   "execution_count": 1,
   "metadata": {},
   "outputs": [
    {
     "ename": "KeyboardInterrupt",
     "evalue": "",
     "output_type": "error",
     "traceback": [
      "\u001b[1;31m---------------------------------------------------------------------------\u001b[0m",
      "\u001b[1;31mKeyboardInterrupt\u001b[0m                         Traceback (most recent call last)",
      "Cell \u001b[1;32mIn [1], line 24\u001b[0m\n\u001b[0;32m     20\u001b[0m tree_window\u001b[39m=\u001b[39mprintscreen[tree_y:tree_y\u001b[39m+\u001b[39mtree_h,tree_x:tree_x\u001b[39m+\u001b[39mtree_w]\n\u001b[0;32m     22\u001b[0m ret,tree_window_thresh\u001b[39m=\u001b[39mcv2\u001b[39m.\u001b[39mthreshold(tree_window,\u001b[39m127\u001b[39m,\u001b[39m255\u001b[39m,cv2\u001b[39m.\u001b[39mTHRESH_BINARY)\n\u001b[1;32m---> 24\u001b[0m tree_no_black \u001b[39m=\u001b[39m np\u001b[39m.\u001b[39mcount_nonzero(tree_window_thresh\u001b[39m==\u001b[39;49m\u001b[39m0\u001b[39;49m)\n\u001b[0;32m     25\u001b[0m tree_no_pixels \u001b[39m=\u001b[39m np\u001b[39m.\u001b[39msize(tree_window_thresh)\n\u001b[0;32m     27\u001b[0m tree_ratio\u001b[39m=\u001b[39mtree_no_black\u001b[39m/\u001b[39mtree_no_pixels\n",
      "\u001b[1;31mKeyboardInterrupt\u001b[0m: "
     ]
    },
    {
     "ename": "",
     "evalue": "",
     "output_type": "error",
     "traceback": [
      "\u001b[1;31mThe Kernel crashed while executing code in the the current cell or a previous cell. Please review the code in the cell(s) to identify a possible cause of the failure. Click <a href='https://aka.ms/vscodeJupyterKernelCrash'>here</a> for more info. View Jupyter <a href='command:jupyter.viewOutput'>log</a> for further details."
     ]
    }
   ],
   "source": [
    "\n",
    "\n",
    "import numpy as np\n",
    "from PIL import ImageGrab\n",
    "import cv2\n",
    "import time\n",
    "\n",
    "import win32com.client as comctl\n",
    "wsh = comctl.Dispatch(\"WScript.Shell\")\n",
    "\n",
    "wsh.AppActivate(\"chromedino.com\")\n",
    "\n",
    "tree_x,tree_y,tree_w,tree_h=(140,50,50,80)\n",
    "\n",
    "while(True):\n",
    "\n",
    "    printscreen=np.array(ImageGrab.grab(bbox=(600,200,1300,350)))\n",
    "    printscreen=cv2.cvtColor(printscreen, cv2.COLOR_BGR2RGB)\n",
    "    \n",
    "######################## Detecting Trees ########################\n",
    "        \n",
    "    tree_window=printscreen[tree_y:tree_y+tree_h,tree_x:tree_x+tree_w]\n",
    "    \n",
    "    ret,tree_window_thresh=cv2.threshold(tree_window,127,255,cv2.THRESH_BINARY)\n",
    "    \n",
    "    tree_no_black = np.count_nonzero(tree_window_thresh==0)\n",
    "    tree_no_pixels = np.size(tree_window_thresh)\n",
    "    \n",
    "    tree_ratio=tree_no_black/tree_no_pixels\n",
    "\n",
    "    \n",
    "    cv2.rectangle(printscreen,(tree_x,tree_y,tree_w,tree_h),(0,0,255),2)\n",
    "\n",
    "    \n",
    "    if(tree_ratio>0.05):\n",
    "        \n",
    "        cv2.rectangle(printscreen,(tree_x,tree_y,tree_w,tree_h),(0,0,255),-1)\n",
    "        cv2.putText(printscreen,\"UP\",(tree_x,tree_y-10),cv2.FONT_HERSHEY_SIMPLEX,1,(0,0,255),2)\n",
    "        wsh.SendKeys(\"{UP}\")\n",
    "    \n",
    "        \n",
    "    cv2.imshow('printscreen',printscreen)\n",
    "\n",
    "    if cv2.waitKey(1)==27:\n",
    "        cv2.destroyAllWindows()\n",
    "        break\n",
    "    \n",
    "    keyPressed=0\n",
    "%%javascript\n",
    \n
   ]
  }
 ],
 "metadata": {
  "kernelspec": {
   "display_name": "Python 3.9.0 64-bit",
   "language": "python",
   "name": "python3"
  },
  "language_info": {
   "codemirror_mode": {
    "name": "ipython",
    "version": 3
   },
   "file_extension": ".py",
   "mimetype": "text/x-python",
   "name": "python",
   "nbconvert_exporter": "python",
   "pygments_lexer": "ipython3",
   "version": "3.9.0"
  },
  "orig_nbformat": 4,
  "vscode": {
   "interpreter": {
    "hash": "7ef320c5ef9e425d7c50aa7991eee9f85766629acef166a5414440f4e5013ec2"
   }
  }
 },
 "nbformat": 4,
 "nbformat_minor": 2
}
